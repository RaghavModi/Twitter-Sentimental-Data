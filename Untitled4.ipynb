{
 "cells": [
  {
   "cell_type": "code",
   "execution_count": 1,
   "metadata": {},
   "outputs": [],
   "source": [
    "import pandas as pd"
   ]
  },
  {
   "cell_type": "code",
   "execution_count": 19,
   "metadata": {},
   "outputs": [],
   "source": [
    "import sqlite3\n",
    "import re"
   ]
  },
  {
   "cell_type": "code",
   "execution_count": 32,
   "metadata": {},
   "outputs": [],
   "source": [
    "import string\n",
    "import matplotlib.pyplot as plt"
   ]
  },
  {
   "cell_type": "code",
   "execution_count": 33,
   "metadata": {},
   "outputs": [],
   "source": [
    "import seaborn as sns"
   ]
  },
  {
   "cell_type": "code",
   "execution_count": 34,
   "metadata": {},
   "outputs": [],
   "source": [
    "#matplotlib inline"
   ]
  },
  {
   "cell_type": "code",
   "execution_count": 71,
   "metadata": {},
   "outputs": [],
   "source": [
    "database = sqlite3.connect(\"ISRO.db\")"
   ]
  },
  {
   "cell_type": "code",
   "execution_count": 72,
   "metadata": {},
   "outputs": [],
   "source": [
    "cur = database.cursor()"
   ]
  },
  {
   "cell_type": "code",
   "execution_count": 73,
   "metadata": {},
   "outputs": [
    {
     "data": {
      "text/plain": [
       "<sqlite3.Cursor at 0x12bdece0>"
      ]
     },
     "execution_count": 73,
     "metadata": {},
     "output_type": "execute_result"
    }
   ],
   "source": [
    "sql = \"SELECT * from Tweetss\"\n",
    "cur.execute(sql)"
   ]
  },
  {
   "cell_type": "code",
   "execution_count": 74,
   "metadata": {},
   "outputs": [],
   "source": [
    "english_tweet = []\n",
    "tweet_len = []\n",
    "Time = []\n",
    "Name = []\n",
    "Tweet_status = []\n",
    "Location = []"
   ]
  },
  {
   "cell_type": "code",
   "execution_count": 75,
   "metadata": {},
   "outputs": [
    {
     "ename": "TypeError",
     "evalue": "'NoneType' object is not subscriptable",
     "output_type": "error",
     "traceback": [
      "\u001b[1;31m---------------------------------------------------------------------------\u001b[0m",
      "\u001b[1;31mTypeError\u001b[0m                                 Traceback (most recent call last)",
      "\u001b[1;32m<ipython-input-75-5b44487a6540>\u001b[0m in \u001b[0;36m<module>\u001b[1;34m\u001b[0m\n\u001b[0;32m      2\u001b[0m \u001b[1;32mwhile\u001b[0m \u001b[1;32mTrue\u001b[0m\u001b[1;33m:\u001b[0m\u001b[1;33m\u001b[0m\u001b[1;33m\u001b[0m\u001b[0m\n\u001b[0;32m      3\u001b[0m     \u001b[0mrecord\u001b[0m \u001b[1;33m=\u001b[0m \u001b[0mcur\u001b[0m\u001b[1;33m.\u001b[0m\u001b[0mfetchone\u001b[0m\u001b[1;33m(\u001b[0m\u001b[1;33m)\u001b[0m\u001b[1;33m\u001b[0m\u001b[1;33m\u001b[0m\u001b[0m\n\u001b[1;32m----> 4\u001b[1;33m     \u001b[1;32mif\u001b[0m \u001b[0mrecord\u001b[0m\u001b[1;33m[\u001b[0m\u001b[1;36m4\u001b[0m\u001b[1;33m]\u001b[0m \u001b[1;33m==\u001b[0m \u001b[1;32mNone\u001b[0m\u001b[1;33m:\u001b[0m\u001b[1;33m\u001b[0m\u001b[1;33m\u001b[0m\u001b[0m\n\u001b[0m\u001b[0;32m      5\u001b[0m         \u001b[1;32mbreak\u001b[0m\u001b[1;33m\u001b[0m\u001b[1;33m\u001b[0m\u001b[0m\n\u001b[0;32m      6\u001b[0m     \u001b[0mtemp\u001b[0m \u001b[1;33m=\u001b[0m \u001b[1;34m''\u001b[0m\u001b[1;33m.\u001b[0m\u001b[0mjoin\u001b[0m\u001b[1;33m(\u001b[0m\u001b[0mrecord\u001b[0m\u001b[1;33m[\u001b[0m\u001b[1;36m4\u001b[0m\u001b[1;33m]\u001b[0m\u001b[1;33m)\u001b[0m\u001b[1;33m\u001b[0m\u001b[1;33m\u001b[0m\u001b[0m\n",
      "\u001b[1;31mTypeError\u001b[0m: 'NoneType' object is not subscriptable"
     ]
    }
   ],
   "source": [
    "count = 0\n",
    "while True:\n",
    "    record = cur.fetchone()\n",
    "    if record[4] == None:\n",
    "        break\n",
    "    temp = ''.join(record[4])\n",
    "    english_tweet.append(temp)\n",
    "    tweet_len.append(len(temp))\n",
    "    Time.append(record[0])\n",
    "    Name.append(record[1])\n",
    "    Tweet_status.append(record[2])\n",
    "    try:\n",
    "        loc = ''.join(record[3])\n",
    "        Location.append(loc)\n",
    "    except:\n",
    "        Location.append(\"NaN\")\n",
    "    count = count + 1 "
   ]
  },
  {
   "cell_type": "code",
   "execution_count": 76,
   "metadata": {},
   "outputs": [
    {
     "data": {
      "text/plain": [
       "1695"
      ]
     },
     "execution_count": 76,
     "metadata": {},
     "output_type": "execute_result"
    }
   ],
   "source": [
    "count"
   ]
  },
  {
   "cell_type": "code",
   "execution_count": 96,
   "metadata": {},
   "outputs": [],
   "source": [
    "tweet_df = pd.DataFrame(data =list(zip(Time, Name, Tweet_status, english_tweet,tweet_len, Location)), columns = ['Time','Name','Tweet_status','Text', 'Length','Location'])"
   ]
  },
  {
   "cell_type": "code",
   "execution_count": 97,
   "metadata": {},
   "outputs": [],
   "source": [
    "tweet_df.drop_duplicates(subset=\"Text\", inplace = True)"
   ]
  },
  {
   "cell_type": "code",
   "execution_count": 98,
   "metadata": {},
   "outputs": [],
   "source": [
    "tweet_df['Text'] = tweet_df['Text'].str.replace('http\\S+|www.\\S+', '', case=False)"
   ]
  },
  {
   "cell_type": "code",
   "execution_count": 99,
   "metadata": {},
   "outputs": [],
   "source": [
    "text_df = []\n",
    "emoji_pattern = re.compile(\"[\"\n",
    "                           u\"\\U0001F600-\\U0001F64F\"  # emoticons\n",
    "                           u\"\\U0001F300-\\U0001F5FF\"  # symbols & pictographs\n",
    "                           u\"\\U0001F680-\\U0001F6FF\"  # transport & map symbols\n",
    "                           u\"\\U0001F1E0-\\U0001F1FF\"  # flags (iOS)\n",
    "                           u\"\\U00002702-\\U000027B0\"\n",
    "                           u\"\\U000024C2-\\U0001F251\"\n",
    "                           \"]+\", flags=re.UNICODE)\n",
    "for i in tweet_df['Text']:\n",
    "    text_df.append(emoji_pattern.sub(r'', i))"
   ]
  },
  {
   "cell_type": "code",
   "execution_count": 100,
   "metadata": {},
   "outputs": [],
   "source": [
    "count = 1\n",
    "for i in text_df:\n",
    "    \n",
    "    tweet_df.replace({'Text', count}, i, inplace = True)\n",
    "    count= count +1"
   ]
  },
  {
   "cell_type": "code",
   "execution_count": 103,
   "metadata": {},
   "outputs": [],
   "source": [
    "tweet_df['Text'] = tweet_df['Text'].str.replace('@\\S+', '', case=False)"
   ]
  },
  {
   "cell_type": "code",
   "execution_count": 104,
   "metadata": {
    "scrolled": true
   },
   "outputs": [],
   "source": [
    "tweet_df['Text'] = tweet_df['Text'].str.replace(\"[^a-zA-Z#]\", \" \")"
   ]
  },
  {
   "cell_type": "code",
   "execution_count": 105,
   "metadata": {},
   "outputs": [
    {
     "data": {
      "text/html": [
       "<div>\n",
       "<style scoped>\n",
       "    .dataframe tbody tr th:only-of-type {\n",
       "        vertical-align: middle;\n",
       "    }\n",
       "\n",
       "    .dataframe tbody tr th {\n",
       "        vertical-align: top;\n",
       "    }\n",
       "\n",
       "    .dataframe thead th {\n",
       "        text-align: right;\n",
       "    }\n",
       "</style>\n",
       "<table border=\"1\" class=\"dataframe\">\n",
       "  <thead>\n",
       "    <tr style=\"text-align: right;\">\n",
       "      <th></th>\n",
       "      <th>Time</th>\n",
       "      <th>Name</th>\n",
       "      <th>Tweet_status</th>\n",
       "      <th>Text</th>\n",
       "      <th>Length</th>\n",
       "      <th>Location</th>\n",
       "    </tr>\n",
       "  </thead>\n",
       "  <tbody>\n",
       "    <tr>\n",
       "      <th>0</th>\n",
       "      <td>2019-09-09 10:11:34</td>\n",
       "      <td>pun_naughtyy</td>\n",
       "      <td>Retweet</td>\n",
       "      <td>Space is hard  We commend  attempt to land the...</td>\n",
       "      <td>245</td>\n",
       "      <td>Delhi</td>\n",
       "    </tr>\n",
       "    <tr>\n",
       "      <th>1</th>\n",
       "      <td>2019-09-09 10:11:34</td>\n",
       "      <td>ajeet0910</td>\n",
       "      <td>Retweet</td>\n",
       "      <td>Now that Vikram has been spotted in one piece ...</td>\n",
       "      <td>137</td>\n",
       "      <td>New Delhi, India</td>\n",
       "    </tr>\n",
       "    <tr>\n",
       "      <th>2</th>\n",
       "      <td>2019-09-09 10:11:35</td>\n",
       "      <td>murali772</td>\n",
       "      <td>Retweet</td>\n",
       "      <td>Meaningful words  Nothing is a failure in scie...</td>\n",
       "      <td>288</td>\n",
       "      <td>Bangalore</td>\n",
       "    </tr>\n",
       "    <tr>\n",
       "      <th>3</th>\n",
       "      <td>2019-09-09 10:11:36</td>\n",
       "      <td>kansalsubodh</td>\n",
       "      <td>Retweet</td>\n",
       "      <td>Vikram lander is not broken      Sigh of hope ...</td>\n",
       "      <td>109</td>\n",
       "      <td>New Delhi</td>\n",
       "    </tr>\n",
       "    <tr>\n",
       "      <th>4</th>\n",
       "      <td>2019-09-09 10:11:36</td>\n",
       "      <td>urjagan</td>\n",
       "      <td>Retweet</td>\n",
       "      <td>#Vikram is there as a single piece  It s in a ...</td>\n",
       "      <td>187</td>\n",
       "      <td>Rajahmundry, India</td>\n",
       "    </tr>\n",
       "  </tbody>\n",
       "</table>\n",
       "</div>"
      ],
      "text/plain": [
       "                  Time          Name Tweet_status  \\\n",
       "0  2019-09-09 10:11:34  pun_naughtyy      Retweet   \n",
       "1  2019-09-09 10:11:34     ajeet0910      Retweet   \n",
       "2  2019-09-09 10:11:35     murali772      Retweet   \n",
       "3  2019-09-09 10:11:36  kansalsubodh      Retweet   \n",
       "4  2019-09-09 10:11:36       urjagan      Retweet   \n",
       "\n",
       "                                                Text  Length  \\\n",
       "0  Space is hard  We commend  attempt to land the...     245   \n",
       "1  Now that Vikram has been spotted in one piece ...     137   \n",
       "2  Meaningful words  Nothing is a failure in scie...     288   \n",
       "3  Vikram lander is not broken      Sigh of hope ...     109   \n",
       "4  #Vikram is there as a single piece  It s in a ...     187   \n",
       "\n",
       "             Location  \n",
       "0               Delhi  \n",
       "1    New Delhi, India  \n",
       "2           Bangalore  \n",
       "3           New Delhi  \n",
       "4  Rajahmundry, India  "
      ]
     },
     "execution_count": 105,
     "metadata": {},
     "output_type": "execute_result"
    }
   ],
   "source": [
    "tweet_df.head()"
   ]
  },
  {
   "cell_type": "code",
   "execution_count": 106,
   "metadata": {},
   "outputs": [],
   "source": [
    "def text_processing(nopunc = ''):\n",
    "    nostop = [word for word in nopunc.split() if word.lower() not in stopwords.words('english')]\n",
    "    nostop = ' '.join(nostop)\n",
    "    string = [word for word in nostop.split() if nostop ]\n",
    "    return nostop\n"
   ]
  },
  {
   "cell_type": "code",
   "execution_count": 107,
   "metadata": {},
   "outputs": [],
   "source": [
    "tweet_df['Text'] = tweet_df['Text'].apply(text_processing)"
   ]
  },
  {
   "cell_type": "code",
   "execution_count": 43,
   "metadata": {},
   "outputs": [],
   "source": [
    "from nltk.corpus import stopwords"
   ]
  },
  {
   "cell_type": "code",
   "execution_count": 45,
   "metadata": {},
   "outputs": [
    {
     "data": {
      "text/plain": [
       "487"
      ]
     },
     "execution_count": 45,
     "metadata": {},
     "output_type": "execute_result"
    }
   ],
   "source": [
    "len(tweet_df)"
   ]
  },
  {
   "cell_type": "code",
   "execution_count": 46,
   "metadata": {},
   "outputs": [],
   "source": [
    "import langdetect"
   ]
  },
  {
   "cell_type": "code",
   "execution_count": 47,
   "metadata": {},
   "outputs": [],
   "source": [
    "from textblob import TextBlob"
   ]
  },
  {
   "cell_type": "code",
   "execution_count": 108,
   "metadata": {
    "scrolled": true
   },
   "outputs": [
    {
     "name": "stdout",
     "output_type": "stream",
     "text": [
      "\n",
      "\n",
      "\n",
      "\n",
      "\n",
      "\n",
      "\n",
      "\n",
      "\n",
      "\n",
      "\n",
      "\n",
      "\n",
      "\n",
      "\n",
      "\n",
      "\n",
      "\n",
      "\n"
     ]
    }
   ],
   "source": [
    "lang = []\n",
    "count = 0\n",
    "for i in tweet_df['Text']:\n",
    "    try:\n",
    "        if langdetect.detect(i) == 'hi':\n",
    "            text = TextBlob(i).translate(to = 'en')\n",
    "            text = str(text)\n",
    "            df[\"Text\"] = df[\"Text\"].replace(i, text)\n",
    "    except:\n",
    "        print(i)\n",
    "    count = count +1"
   ]
  },
  {
   "cell_type": "code",
   "execution_count": 52,
   "metadata": {},
   "outputs": [
    {
     "data": {
      "text/plain": [
       "''"
      ]
     },
     "execution_count": 52,
     "metadata": {},
     "output_type": "execute_result"
    }
   ],
   "source": [
    "i"
   ]
  },
  {
   "cell_type": "code",
   "execution_count": 109,
   "metadata": {},
   "outputs": [
    {
     "data": {
      "text/plain": [
       "487"
      ]
     },
     "execution_count": 109,
     "metadata": {},
     "output_type": "execute_result"
    }
   ],
   "source": [
    "count"
   ]
  },
  {
   "cell_type": "code",
   "execution_count": 110,
   "metadata": {},
   "outputs": [],
   "source": [
    "tweet_df.drop_duplicates(subset= \"Text\", inplace=True)"
   ]
  },
  {
   "cell_type": "code",
   "execution_count": 111,
   "metadata": {},
   "outputs": [
    {
     "data": {
      "text/plain": [
       "406"
      ]
     },
     "execution_count": 111,
     "metadata": {},
     "output_type": "execute_result"
    }
   ],
   "source": [
    "len(tweet_df)"
   ]
  },
  {
   "cell_type": "code",
   "execution_count": 176,
   "metadata": {},
   "outputs": [],
   "source": [
    "tweet_df.to_csv(\"training_set4.csv\")"
   ]
  },
  {
   "cell_type": "code",
   "execution_count": 162,
   "metadata": {},
   "outputs": [],
   "source": [
    "senti = []\n",
    "for i in tweet_df['Text']:\n",
    "    senti.append(TextBlob(i).sentiment)"
   ]
  },
  {
   "cell_type": "code",
   "execution_count": 174,
   "metadata": {},
   "outputs": [],
   "source": [
    "tweet_df = pd.read_csv(\"training_set3.csv\")"
   ]
  },
  {
   "cell_type": "code",
   "execution_count": 157,
   "metadata": {},
   "outputs": [
    {
     "data": {
      "text/plain": [
       "int"
      ]
     },
     "execution_count": 157,
     "metadata": {},
     "output_type": "execute_result"
    }
   ],
   "source": [
    "type(i)"
   ]
  },
  {
   "cell_type": "code",
   "execution_count": 163,
   "metadata": {
    "scrolled": true
   },
   "outputs": [
    {
     "name": "stdout",
     "output_type": "stream",
     "text": [
      "SoulTweety\n"
     ]
    }
   ],
   "source": [
    "print((tweet_df['Name'][27]))\n",
    "#tweet_df.drop(\"Unnamed: 0\",axis = 1,inplace = True )"
   ]
  },
  {
   "cell_type": "code",
   "execution_count": 164,
   "metadata": {},
   "outputs": [],
   "source": [
    "senti_df = pd.DataFrame(senti, columns = ['polarity', 'subjectivity'])"
   ]
  },
  {
   "cell_type": "code",
   "execution_count": 165,
   "metadata": {},
   "outputs": [],
   "source": [
    "tweet_df =pd.concat([tweet_df, senti_df],axis =1)"
   ]
  },
  {
   "cell_type": "code",
   "execution_count": 166,
   "metadata": {},
   "outputs": [],
   "source": [
    "status = []\n",
    "for i in tweet_df['polarity']:\n",
    "    if i<0:\n",
    "        status.append(\"negative\")\n",
    "    else:\n",
    "        status.append(\"positive\")"
   ]
  },
  {
   "cell_type": "code",
   "execution_count": 167,
   "metadata": {},
   "outputs": [],
   "source": [
    "tweet_df['polarity'] = status"
   ]
  },
  {
   "cell_type": "code",
   "execution_count": 168,
   "metadata": {
    "scrolled": true
   },
   "outputs": [
    {
     "data": {
      "text/plain": [
       "'ShamChavan13'"
      ]
     },
     "execution_count": 168,
     "metadata": {},
     "output_type": "execute_result"
    }
   ],
   "source": [
    "tweet_df['Name'][10]"
   ]
  },
  {
   "cell_type": "code",
   "execution_count": 154,
   "metadata": {},
   "outputs": [
    {
     "name": "stdout",
     "output_type": "stream",
     "text": [
      "406\n",
      "406\n"
     ]
    }
   ],
   "source": [
    "print(len(status))\n",
    "print(len(tweet_df))"
   ]
  },
  {
   "cell_type": "code",
   "execution_count": 170,
   "metadata": {},
   "outputs": [
    {
     "data": {
      "text/html": [
       "<div>\n",
       "<style scoped>\n",
       "    .dataframe tbody tr th:only-of-type {\n",
       "        vertical-align: middle;\n",
       "    }\n",
       "\n",
       "    .dataframe tbody tr th {\n",
       "        vertical-align: top;\n",
       "    }\n",
       "\n",
       "    .dataframe thead th {\n",
       "        text-align: right;\n",
       "    }\n",
       "</style>\n",
       "<table border=\"1\" class=\"dataframe\">\n",
       "  <thead>\n",
       "    <tr style=\"text-align: right;\">\n",
       "      <th></th>\n",
       "      <th>Unnamed: 0</th>\n",
       "      <th>Time</th>\n",
       "      <th>Name</th>\n",
       "      <th>Tweet_status</th>\n",
       "      <th>Text</th>\n",
       "      <th>Length</th>\n",
       "      <th>Location</th>\n",
       "      <th>polarity</th>\n",
       "      <th>subjectivity</th>\n",
       "    </tr>\n",
       "  </thead>\n",
       "  <tbody>\n",
       "    <tr>\n",
       "      <th>0</th>\n",
       "      <td>0</td>\n",
       "      <td>09-09-19 10:11</td>\n",
       "      <td>pun_naughtyy</td>\n",
       "      <td>Retweet</td>\n",
       "      <td>Space hard commend attempt land #Chandrayaan m...</td>\n",
       "      <td>245</td>\n",
       "      <td>Delhi</td>\n",
       "      <td>negative</td>\n",
       "      <td>0.333333</td>\n",
       "    </tr>\n",
       "    <tr>\n",
       "      <th>1</th>\n",
       "      <td>1</td>\n",
       "      <td>09-09-19 10:11</td>\n",
       "      <td>ajeet0910</td>\n",
       "      <td>Retweet</td>\n",
       "      <td>Vikram spotted one piece come #ISRO entire cou...</td>\n",
       "      <td>137</td>\n",
       "      <td>New Delhi, India</td>\n",
       "      <td>positive</td>\n",
       "      <td>0.625000</td>\n",
       "    </tr>\n",
       "    <tr>\n",
       "      <th>2</th>\n",
       "      <td>2</td>\n",
       "      <td>09-09-19 10:11</td>\n",
       "      <td>murali772</td>\n",
       "      <td>Retweet</td>\n",
       "      <td>Meaningful words Nothing failure scientific ex...</td>\n",
       "      <td>288</td>\n",
       "      <td>Bangalore</td>\n",
       "      <td>negative</td>\n",
       "      <td>0.437500</td>\n",
       "    </tr>\n",
       "    <tr>\n",
       "      <th>3</th>\n",
       "      <td>3</td>\n",
       "      <td>09-09-19 10:11</td>\n",
       "      <td>kansalsubodh</td>\n",
       "      <td>Retweet</td>\n",
       "      <td>Vikram lander broken Sigh hope Let keep finger...</td>\n",
       "      <td>109</td>\n",
       "      <td>New Delhi</td>\n",
       "      <td>negative</td>\n",
       "      <td>0.400000</td>\n",
       "    </tr>\n",
       "    <tr>\n",
       "      <th>4</th>\n",
       "      <td>4</td>\n",
       "      <td>09-09-19 10:11</td>\n",
       "      <td>urjagan</td>\n",
       "      <td>Retweet</td>\n",
       "      <td>#Vikram single piece tilted position official ...</td>\n",
       "      <td>187</td>\n",
       "      <td>Rajahmundry, India</td>\n",
       "      <td>negative</td>\n",
       "      <td>0.214286</td>\n",
       "    </tr>\n",
       "  </tbody>\n",
       "</table>\n",
       "</div>"
      ],
      "text/plain": [
       "   Unnamed: 0            Time          Name Tweet_status  \\\n",
       "0           0  09-09-19 10:11  pun_naughtyy      Retweet   \n",
       "1           1  09-09-19 10:11     ajeet0910      Retweet   \n",
       "2           2  09-09-19 10:11     murali772      Retweet   \n",
       "3           3  09-09-19 10:11  kansalsubodh      Retweet   \n",
       "4           4  09-09-19 10:11       urjagan      Retweet   \n",
       "\n",
       "                                                Text  Length  \\\n",
       "0  Space hard commend attempt land #Chandrayaan m...     245   \n",
       "1  Vikram spotted one piece come #ISRO entire cou...     137   \n",
       "2  Meaningful words Nothing failure scientific ex...     288   \n",
       "3  Vikram lander broken Sigh hope Let keep finger...     109   \n",
       "4  #Vikram single piece tilted position official ...     187   \n",
       "\n",
       "             Location  polarity  subjectivity  \n",
       "0               Delhi  negative      0.333333  \n",
       "1    New Delhi, India  positive      0.625000  \n",
       "2           Bangalore  negative      0.437500  \n",
       "3           New Delhi  negative      0.400000  \n",
       "4  Rajahmundry, India  negative      0.214286  "
      ]
     },
     "execution_count": 170,
     "metadata": {},
     "output_type": "execute_result"
    }
   ],
   "source": [
    "tweet_df.head()"
   ]
  },
  {
   "cell_type": "code",
   "execution_count": 171,
   "metadata": {},
   "outputs": [],
   "source": [
    "temp_len = []\n",
    "for i in tweet_df['Text']:\n",
    "    temp = i.split()\n",
    "    temp_len.append(len(temp))"
   ]
  },
  {
   "cell_type": "code",
   "execution_count": 175,
   "metadata": {},
   "outputs": [],
   "source": [
    "tweet_df['Length'] = temp_len"
   ]
  },
  {
   "cell_type": "code",
   "execution_count": null,
   "metadata": {},
   "outputs": [],
   "source": []
  }
 ],
 "metadata": {
  "kernelspec": {
   "display_name": "Python 3",
   "language": "python",
   "name": "python3"
  },
  "language_info": {
   "codemirror_mode": {
    "name": "ipython",
    "version": 3
   },
   "file_extension": ".py",
   "mimetype": "text/x-python",
   "name": "python",
   "nbconvert_exporter": "python",
   "pygments_lexer": "ipython3",
   "version": "3.7.3"
  }
 },
 "nbformat": 4,
 "nbformat_minor": 2
}
