{
 "cells": [
  {
   "cell_type": "code",
   "execution_count": 0,
   "metadata": {
    "colab": {},
    "colab_type": "code",
    "id": "RSE8fN7pEVBm"
   },
   "outputs": [],
   "source": [
    "import pandas as pd"
   ]
  },
  {
   "cell_type": "code",
   "execution_count": 0,
   "metadata": {
    "colab": {
     "base_uri": "https://localhost:8080/",
     "height": 230
    },
    "colab_type": "code",
    "id": "qECW5oCyEbxO",
    "outputId": "fdd8c910-fd76-496c-c11b-38069269255e"
   },
   "outputs": [
    {
     "name": "stdout",
     "output_type": "stream",
     "text": [
      "Collecting langdetect\n",
      "\u001b[?25l  Downloading https://files.pythonhosted.org/packages/59/59/4bc44158a767a6d66de18c4136c8aa90491d56cc951c10b74dd1e13213c9/langdetect-1.0.7.zip (998kB)\n",
      "\u001b[K     |████████████████████████████████| 1.0MB 4.7MB/s \n",
      "\u001b[?25hRequirement already satisfied: six in /usr/local/lib/python3.6/dist-packages (from langdetect) (1.12.0)\n",
      "Building wheels for collected packages: langdetect\n",
      "  Building wheel for langdetect (setup.py) ... \u001b[?25l\u001b[?25hdone\n",
      "  Created wheel for langdetect: filename=langdetect-1.0.7-cp36-none-any.whl size=993460 sha256=eff8f4dbaf443563709dcdf75cc7d4bbdcf601ff4f10f775d4c6ea4a55446a83\n",
      "  Stored in directory: /root/.cache/pip/wheels/ec/0c/a9/1647275e7ef5014e7b83ff30105180e332867d65e7617ddafe\n",
      "Successfully built langdetect\n",
      "Installing collected packages: langdetect\n",
      "Successfully installed langdetect-1.0.7\n"
     ]
    }
   ],
   "source": [
    "!pip install langdetect"
   ]
  },
  {
   "cell_type": "code",
   "execution_count": 0,
   "metadata": {
    "colab": {},
    "colab_type": "code",
    "id": "MPP5hfvDEe9T"
   },
   "outputs": [],
   "source": [
    "from textblob import TextBlob"
   ]
  },
  {
   "cell_type": "code",
   "execution_count": 0,
   "metadata": {
    "colab": {},
    "colab_type": "code",
    "id": "d4nf-LzXEiNI"
   },
   "outputs": [],
   "source": [
    "import langdetect"
   ]
  },
  {
   "cell_type": "code",
   "execution_count": 0,
   "metadata": {
    "colab": {},
    "colab_type": "code",
    "id": "NtpaivwUEkWG"
   },
   "outputs": [],
   "source": [
    "df = pd.read_csv(\"Temp3.csv\")"
   ]
  },
  {
   "cell_type": "code",
   "execution_count": 0,
   "metadata": {
    "colab": {},
    "colab_type": "code",
    "id": "gCMTiaeqEonT"
   },
   "outputs": [],
   "source": [
    "df.drop(\"Unnamed: 0\", inplace = True, axis = 1)"
   ]
  },
  {
   "cell_type": "code",
   "execution_count": 0,
   "metadata": {
    "colab": {
     "base_uri": "https://localhost:8080/",
     "height": 195
    },
    "colab_type": "code",
    "id": "En0oa9S0ExK1",
    "outputId": "0ffb72da-653d-466d-dfb8-7c5680380f49"
   },
   "outputs": [
    {
     "data": {
      "text/html": [
       "<div>\n",
       "<style scoped>\n",
       "    .dataframe tbody tr th:only-of-type {\n",
       "        vertical-align: middle;\n",
       "    }\n",
       "\n",
       "    .dataframe tbody tr th {\n",
       "        vertical-align: top;\n",
       "    }\n",
       "\n",
       "    .dataframe thead th {\n",
       "        text-align: right;\n",
       "    }\n",
       "</style>\n",
       "<table border=\"1\" class=\"dataframe\">\n",
       "  <thead>\n",
       "    <tr style=\"text-align: right;\">\n",
       "      <th></th>\n",
       "      <th>Time</th>\n",
       "      <th>Name</th>\n",
       "      <th>Tweet_status</th>\n",
       "      <th>Text</th>\n",
       "      <th>Length</th>\n",
       "      <th>Location</th>\n",
       "    </tr>\n",
       "  </thead>\n",
       "  <tbody>\n",
       "    <tr>\n",
       "      <th>1161</th>\n",
       "      <td>2019-09-08 06:30:04</td>\n",
       "      <td>NatGeoIndia</td>\n",
       "      <td>Tweet</td>\n",
       "      <td>India stands #isro, remembering aerospace scie...</td>\n",
       "      <td>272</td>\n",
       "      <td>India</td>\n",
       "    </tr>\n",
       "    <tr>\n",
       "      <th>1162</th>\n",
       "      <td>2019-09-08 06:30:11</td>\n",
       "      <td>Jayanth_TNIE</td>\n",
       "      <td>Retweet</td>\n",
       "      <td>#ISRO sources confirmed TNIE lander #Vikram tu...</td>\n",
       "      <td>219</td>\n",
       "      <td>India</td>\n",
       "    </tr>\n",
       "    <tr>\n",
       "      <th>1163</th>\n",
       "      <td>2019-09-08 06:30:12</td>\n",
       "      <td>j5ponnurangam</td>\n",
       "      <td>Tweet</td>\n",
       "      <td>INDIAN SATELLITES could land planets now.?.🤔 #...</td>\n",
       "      <td>157</td>\n",
       "      <td>TamilNadu.India.</td>\n",
       "    </tr>\n",
       "    <tr>\n",
       "      <th>1164</th>\n",
       "      <td>2019-09-08 06:30:14</td>\n",
       "      <td>Sksahoo1234</td>\n",
       "      <td>Tweet</td>\n",
       "      <td>proves day. ISRO modis jacket colour Sivan hug...</td>\n",
       "      <td>132</td>\n",
       "      <td>India</td>\n",
       "    </tr>\n",
       "    <tr>\n",
       "      <th>1165</th>\n",
       "      <td>2019-09-08 06:30:16</td>\n",
       "      <td>hitpuma1</td>\n",
       "      <td>Tweet</td>\n",
       "      <td>@SVanceJ #ModuAndMoon</td>\n",
       "      <td>45</td>\n",
       "      <td>NaN</td>\n",
       "    </tr>\n",
       "  </tbody>\n",
       "</table>\n",
       "</div>"
      ],
      "text/plain": [
       "                     Time           Name  ... Length          Location\n",
       "1161  2019-09-08 06:30:04    NatGeoIndia  ...    272             India\n",
       "1162  2019-09-08 06:30:11   Jayanth_TNIE  ...    219             India\n",
       "1163  2019-09-08 06:30:12  j5ponnurangam  ...    157  TamilNadu.India.\n",
       "1164  2019-09-08 06:30:14    Sksahoo1234  ...    132            India \n",
       "1165  2019-09-08 06:30:16       hitpuma1  ...     45               NaN\n",
       "\n",
       "[5 rows x 6 columns]"
      ]
     },
     "execution_count": 7,
     "metadata": {
      "tags": []
     },
     "output_type": "execute_result"
    }
   ],
   "source": [
    "df.tail()"
   ]
  },
  {
   "cell_type": "code",
   "execution_count": 0,
   "metadata": {
    "colab": {},
    "colab_type": "code",
    "id": "YzOmeKPxEzCj"
   },
   "outputs": [],
   "source": [
    "lang = []\n",
    "count = 0\n",
    "for i in df['Text']:\n",
    "  if i != '🙏🏻':\n",
    "    if langdetect.detect(i) == 'hi':\n",
    "      text = TextBlob(i).translate(to = 'en')\n",
    "      text = str(text)\n",
    "      df[\"Text\"] = df[\"Text\"].replace(i, text)\n",
    "      count = count +1"
   ]
  },
  {
   "cell_type": "code",
   "execution_count": 0,
   "metadata": {
    "colab": {},
    "colab_type": "code",
    "id": "LqVG1xjJE0mA"
   },
   "outputs": [],
   "source": [
    "df.to_csv(\"FinalDataSet.csv\")"
   ]
  },
  {
   "cell_type": "code",
   "execution_count": 0,
   "metadata": {
    "colab": {},
    "colab_type": "code",
    "id": "1-F42u8NFClB"
   },
   "outputs": [],
   "source": []
  }
 ],
 "metadata": {
  "colab": {
   "collapsed_sections": [],
   "name": "Untitled0.ipynb",
   "provenance": []
  },
  "kernelspec": {
   "display_name": "Python 3",
   "language": "python",
   "name": "python3"
  },
  "language_info": {
   "codemirror_mode": {
    "name": "ipython",
    "version": 3
   },
   "file_extension": ".py",
   "mimetype": "text/x-python",
   "name": "python",
   "nbconvert_exporter": "python",
   "pygments_lexer": "ipython3",
   "version": "3.7.3"
  }
 },
 "nbformat": 4,
 "nbformat_minor": 1
}
